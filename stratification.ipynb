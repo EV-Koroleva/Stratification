{
 "cells": [
  {
   "cell_type": "code",
   "execution_count": 48,
   "id": "58dd2713-fe4a-4cf5-a95d-fbe97dbf64b6",
   "metadata": {},
   "outputs": [],
   "source": [
    "import pandas as pd\n",
    "from scipy.stats import ttest_ind\n",
    "import numpy as np\n",
    "from scipy import stats\n",
    "from statsmodels.stats.power import tt_ind_solve_power"
   ]
  },
  {
   "cell_type": "markdown",
   "id": "2c558586-580e-4afb-ae77-573c6e868f08",
   "metadata": {},
   "source": [
    "# Кейс"
   ]
  },
  {
   "cell_type": "markdown",
   "id": "27796809-8d73-4523-9f0d-4d387373ebf6",
   "metadata": {},
   "source": [
    "Монетизация классифайда. Проведен тест с экранами платных услуг в монетизации. Гипотеза - можно увеличить ARPU на +3.5 рубля."
   ]
  },
  {
   "cell_type": "markdown",
   "id": "f0aefa39-ea1f-4cba-b741-e2daf38ffbcf",
   "metadata": {},
   "source": [
    "# Загрузка данных"
   ]
  },
  {
   "cell_type": "markdown",
   "id": "158f66f2-3ff4-4521-bcd8-08c7c8831945",
   "metadata": {},
   "source": [
    "Схема данных\n",
    "- ARPU: целевая метрика в тесте\n",
    "- is_capital: продавец авто из столицы (capital) или из регионов (region)\n",
    "- is_pro: профессиональный или нет продавец (1 — профи, 0 — простой)\n",
    "- group: группа в А/Б-тесте (1 — тестовая, 0 — контрольная)"
   ]
  },
  {
   "cell_type": "code",
   "execution_count": 50,
   "id": "fc7f5ef9-05fd-49af-9bf7-eb1ae4e955fb",
   "metadata": {},
   "outputs": [
    {
     "name": "stdout",
     "output_type": "stream",
     "text": [
      "<class 'pandas.core.frame.DataFrame'>\n",
      "RangeIndex: 9700 entries, 0 to 9699\n",
      "Data columns (total 4 columns):\n",
      " #   Column      Non-Null Count  Dtype  \n",
      "---  ------      --------------  -----  \n",
      " 0   ARPU        9700 non-null   float64\n",
      " 1   is_capital  9700 non-null   object \n",
      " 2   is_pro      9700 non-null   int64  \n",
      " 3   group       9700 non-null   int64  \n",
      "dtypes: float64(1), int64(2), object(1)\n",
      "memory usage: 303.3+ KB\n"
     ]
    }
   ],
   "source": [
    "df_stratification = pd.read_csv('stratification.csv')\n",
    "df_stratification.info()"
   ]
  },
  {
   "cell_type": "code",
   "execution_count": 7,
   "id": "108c8e91-655a-4376-b408-bcb683c03eda",
   "metadata": {},
   "outputs": [
    {
     "data": {
      "text/html": [
       "<div>\n",
       "<style scoped>\n",
       "    .dataframe tbody tr th:only-of-type {\n",
       "        vertical-align: middle;\n",
       "    }\n",
       "\n",
       "    .dataframe tbody tr th {\n",
       "        vertical-align: top;\n",
       "    }\n",
       "\n",
       "    .dataframe thead th {\n",
       "        text-align: right;\n",
       "    }\n",
       "</style>\n",
       "<table border=\"1\" class=\"dataframe\">\n",
       "  <thead>\n",
       "    <tr style=\"text-align: right;\">\n",
       "      <th></th>\n",
       "      <th>ARPU</th>\n",
       "      <th>is_capital</th>\n",
       "      <th>is_pro</th>\n",
       "      <th>group</th>\n",
       "    </tr>\n",
       "  </thead>\n",
       "  <tbody>\n",
       "    <tr>\n",
       "      <th>0</th>\n",
       "      <td>250.5</td>\n",
       "      <td>region</td>\n",
       "      <td>1</td>\n",
       "      <td>1</td>\n",
       "    </tr>\n",
       "    <tr>\n",
       "      <th>1</th>\n",
       "      <td>182.0</td>\n",
       "      <td>capital</td>\n",
       "      <td>0</td>\n",
       "      <td>1</td>\n",
       "    </tr>\n",
       "    <tr>\n",
       "      <th>2</th>\n",
       "      <td>75.0</td>\n",
       "      <td>region</td>\n",
       "      <td>0</td>\n",
       "      <td>0</td>\n",
       "    </tr>\n",
       "    <tr>\n",
       "      <th>3</th>\n",
       "      <td>532.5</td>\n",
       "      <td>capital</td>\n",
       "      <td>1</td>\n",
       "      <td>0</td>\n",
       "    </tr>\n",
       "    <tr>\n",
       "      <th>4</th>\n",
       "      <td>88.0</td>\n",
       "      <td>region</td>\n",
       "      <td>0</td>\n",
       "      <td>1</td>\n",
       "    </tr>\n",
       "  </tbody>\n",
       "</table>\n",
       "</div>"
      ],
      "text/plain": [
       "    ARPU is_capital  is_pro  group\n",
       "0  250.5     region       1      1\n",
       "1  182.0    capital       0      1\n",
       "2   75.0     region       0      0\n",
       "3  532.5    capital       1      0\n",
       "4   88.0     region       0      1"
      ]
     },
     "execution_count": 7,
     "metadata": {},
     "output_type": "execute_result"
    }
   ],
   "source": [
    "df_stratification.head()"
   ]
  },
  {
   "cell_type": "markdown",
   "id": "b7fc5725-bd11-4fa2-879f-d7ecb4d7356b",
   "metadata": {},
   "source": [
    "# Стратификация"
   ]
  },
  {
   "cell_type": "markdown",
   "id": "7ee76bd4-993c-44cc-be6d-fa3c0c37c303",
   "metadata": {},
   "source": [
    "## T-test"
   ]
  },
  {
   "cell_type": "code",
   "execution_count": 13,
   "id": "43f8fd41-6997-4fae-bc68-7d41931f3651",
   "metadata": {},
   "outputs": [],
   "source": [
    "def get_basic_ttest(group_A, group_B):\n",
    "    '''Проверяет гипотезу о равенстве средних для обычного среднего.\n",
    "    return - t_stat, p_value.'''\n",
    "\n",
    "    t_stat, p_value = ttest_ind(group_A, group_B)\n",
    "    inference = {'t_stat': t_stat, 'p_value':p_value}\n",
    "    return(inference)"
   ]
  },
  {
   "cell_type": "code",
   "execution_count": 15,
   "id": "19a2054d-401b-4673-9eb2-44551128251d",
   "metadata": {},
   "outputs": [
    {
     "name": "stdout",
     "output_type": "stream",
     "text": [
      "p-value базового t-test =  0.065\n"
     ]
    }
   ],
   "source": [
    "inference = get_basic_ttest(df_stratification['ARPU'][df_stratification['group']==0], df_stratification['ARPU'][df_stratification['group']==1])\n",
    "print('p-value базового t-test = ', round(inference['p_value'], 3))"
   ]
  },
  {
   "cell_type": "markdown",
   "id": "3506c6e1-86cf-4e16-8e51-4de9e554735e",
   "metadata": {},
   "source": [
    "## Стратифицированная диспесия"
   ]
  },
  {
   "cell_type": "code",
   "execution_count": 18,
   "id": "5894bbeb-8783-4438-a9fa-36a58a3945a6",
   "metadata": {},
   "outputs": [],
   "source": [
    "def calculate_strat_var(data, strata_name, gen_pop_weights, target_value):\n",
    "    '''Вычисляет стратифицированную дисперсию.'''\n",
    "    \n",
    "    strat_vars = data.groupby(strata_name)[target_value].var()\n",
    "    \n",
    "    data_vars_weights = pd.merge(\n",
    "        pd.Series(strat_vars, name='value_vars'),\n",
    "        pd.Series(gen_pop_weights, name='weight'),\n",
    "        how='inner',\n",
    "        left_index=True,\n",
    "        right_index=True)   \n",
    " \n",
    "    var_strat = (data_vars_weights['weight'] * data_vars_weights['value_vars']).sum()\n",
    "    return (var_strat)"
   ]
  },
  {
   "cell_type": "code",
   "execution_count": 20,
   "id": "50a8ea03-44a4-4385-9d8c-f112a52b1876",
   "metadata": {},
   "outputs": [
    {
     "name": "stdout",
     "output_type": "stream",
     "text": [
      "Глобальная дисперсия данных 7480\n"
     ]
    }
   ],
   "source": [
    "gen_var = round(df_stratification['ARPU'].var())\n",
    "print('Глобальная дисперсия данных', gen_var)"
   ]
  },
  {
   "cell_type": "markdown",
   "id": "eb6f0b2c-3353-4a03-a5cc-2d7bab765fb0",
   "metadata": {},
   "source": [
    "### is_capital"
   ]
  },
  {
   "cell_type": "code",
   "execution_count": 23,
   "id": "c1a86bc2-24cb-4b97-9657-78d023bf27b9",
   "metadata": {},
   "outputs": [
    {
     "name": "stdout",
     "output_type": "stream",
     "text": [
      "Стратифицированная дисперсия по is_capital: 5789.9483\n",
      "Дисперсия сокращается на -22.6%\n"
     ]
    }
   ],
   "source": [
    "# Рассчитаем доли генеральной совокупности по is_capital\n",
    "gen_pop_weights_cap = df_stratification['is_capital'].value_counts(normalize=True).to_dict()\n",
    "\n",
    "# Вычислим стратифицированную дисперсию\n",
    "strat_var_cap = calculate_strat_var(df_stratification, 'is_capital', gen_pop_weights_cap, 'ARPU')\n",
    "disp_decr = round(strat_var_cap/gen_var - 1, 3)\n",
    "\n",
    "print(f'Стратифицированная дисперсия по is_capital: {strat_var_cap:.4f}')\n",
    "print('Дисперсия сокращается на {}%'.format(disp_decr*100))"
   ]
  },
  {
   "cell_type": "markdown",
   "id": "fc2c271a-60bd-4067-b7a5-6f4e0b946c2d",
   "metadata": {},
   "source": [
    "### is_pro"
   ]
  },
  {
   "cell_type": "code",
   "execution_count": 26,
   "id": "181af0b8-90dd-4e7d-b614-ae0cc9e0365f",
   "metadata": {},
   "outputs": [
    {
     "name": "stdout",
     "output_type": "stream",
     "text": [
      "Стратифицированная дисперсия по is_pro: 6193.9351\n",
      "Дисперсия сокращается на -17.2%\n"
     ]
    }
   ],
   "source": [
    "# Рассчитаем доли генеральной совокупности по is_pro\n",
    "gen_pop_weights_pro = df_stratification['is_pro'].value_counts(normalize=True).to_dict()\n",
    "\n",
    "# Вычислим стратифицированную дисперсию\n",
    "strat_var_pro = calculate_strat_var(df_stratification, 'is_pro', gen_pop_weights_pro, 'ARPU')\n",
    "disp_decr = round(strat_var_pro/gen_var - 1, 3)\n",
    "\n",
    "print(f'Стратифицированная дисперсия по is_pro: {strat_var_pro:.4f}')\n",
    "print('Дисперсия сокращается на {}%'.format(disp_decr*100))"
   ]
  },
  {
   "cell_type": "markdown",
   "id": "9d8470a6-6d57-4f26-9fcb-a7f521b7c982",
   "metadata": {},
   "source": [
    "Дисперсия сокращается максимально при страте is_capital"
   ]
  },
  {
   "cell_type": "markdown",
   "id": "e0a61318-4c60-4b2d-b19e-0c8810f1364d",
   "metadata": {},
   "source": [
    "# Постстратификация"
   ]
  },
  {
   "cell_type": "code",
   "execution_count": 30,
   "id": "a029e417-4de5-45bb-86f3-b3cf926f4095",
   "metadata": {},
   "outputs": [],
   "source": [
    "# Функция для расчета стратифицированного среднего\n",
    "def calculate_strat_mean(data, strata_name, gen_pop_weights, target_value):\n",
    "    strats_means = data.groupby(strata_name)[target_value].mean()\n",
    "    data_means_weights = pd.merge(\n",
    "        pd.Series(strats_means, name='value_means'),\n",
    "        pd.Series(gen_pop_weights, name='weight'),\n",
    "        how='inner',\n",
    "        left_index=True,\n",
    "        right_index=True)\n",
    "    mean_strat = (data_means_weights['weight'] * data_means_weights['value_means']).sum()\n",
    "    return mean_strat"
   ]
  },
  {
   "cell_type": "code",
   "execution_count": 32,
   "id": "c56c20a3-af8c-4917-8925-fdf284ee8599",
   "metadata": {},
   "outputs": [],
   "source": [
    "# Функция для расчета t-теста с учетом стратификации\n",
    "def get_strat_ttest(df_A, df_B, strata_name, target_value, gen_pop_weights):\n",
    "    # Расчет стратифицированных средних для обеих групп\n",
    "    mean_strat_A = calculate_strat_mean(df_A, strata_name, gen_pop_weights, target_value)\n",
    "    mean_strat_B = calculate_strat_mean(df_B, strata_name, gen_pop_weights, target_value)\n",
    "    \n",
    "    # Расчет стратифицированной дисперсии для обеих групп\n",
    "    var_strat_A = calculate_strat_var(df_A, strata_name, gen_pop_weights, target_value)\n",
    "    var_strat_B = calculate_strat_var(df_B, strata_name, gen_pop_weights, target_value)\n",
    "    \n",
    "    # Расчет статистики t\n",
    "    delta_mean_strat = mean_strat_A - mean_strat_B\n",
    "    std_mean_strat = np.sqrt(var_strat_A / len(df_A) + var_strat_B / len(df_B))\n",
    "    t_stat_strat = delta_mean_strat / std_mean_strat\n",
    "    \n",
    "    # Расчет p-value\n",
    "    p_value = 2 * (1 - stats.norm.cdf(np.abs(t_stat_strat)))\n",
    "    \n",
    "    # Возврат результатов\n",
    "    inference = {'t_stat': t_stat_strat, 'p_value': p_value}\n",
    "    return inference"
   ]
  },
  {
   "cell_type": "code",
   "execution_count": 34,
   "id": "a767567e-3b34-4c3a-9429-5fb7bc6a45ea",
   "metadata": {},
   "outputs": [
    {
     "name": "stdout",
     "output_type": "stream",
     "text": [
      "T-statistic: 2.3578\n",
      "P-value: 0.0184\n"
     ]
    }
   ],
   "source": [
    "# Находим веса для генеральной совокупности по стратифицированной переменной\n",
    "gen_pop_weights = df_stratification['is_capital'].value_counts(normalize=True).to_dict()\n",
    "\n",
    "# Разделим данные на тестовую и контрольную группы\n",
    "df_A = df_stratification[df_stratification['group'] == 1]\n",
    "df_B = df_stratification[df_stratification['group'] == 0]\n",
    "\n",
    "# Применим постстратификацию и пересчитаем t-test\n",
    "result = get_strat_ttest(df_A, df_B, 'is_capital', 'ARPU', gen_pop_weights)\n",
    "\n",
    "print(f\"T-statistic: {result['t_stat']:.4f}\")\n",
    "print(f\"P-value: {result['p_value']:.4f}\")"
   ]
  },
  {
   "cell_type": "markdown",
   "id": "b2b3c7be-a46e-4909-8e3b-7f169a371d87",
   "metadata": {},
   "source": [
    "# Размер выборки"
   ]
  },
  {
   "cell_type": "code",
   "execution_count": 44,
   "id": "1845046f-3426-4059-a4d5-0cd5b91a140c",
   "metadata": {},
   "outputs": [
    {
     "name": "stdout",
     "output_type": "stream",
     "text": [
      "Абсолютный MDE = 3.2421437067065995\n"
     ]
    }
   ],
   "source": [
    "#зададим исходные распределения\n",
    "abs_MDE = df_stratification['ARPU'][df_stratification['group']==1].mean() - df_stratification['ARPU'][df_stratification['group']==0].mean()\n",
    "print('Абсолютный MDE =', abs_MDE)\n",
    "\n",
    "# работаем только с группой A\n",
    "data_a = df_stratification[df_stratification['group']==0]\n",
    "\n",
    "basic_std = data_a['ARPU'].std()\n",
    "basic_cohen_D_effect_size = abs_MDE / basic_std\n",
    "basic_sample_size = int(tt_ind_solve_power(effect_size = basic_cohen_D_effect_size, alpha=0.05, power=0.8, nobs1=None, ratio=1))"
   ]
  },
  {
   "cell_type": "code",
   "execution_count": 46,
   "id": "66560ad5-0087-443d-af26-7ccd89cdc7a2",
   "metadata": {},
   "outputs": [
    {
     "name": "stdout",
     "output_type": "stream",
     "text": [
      "Обычная станд. отклонение = 87.24597419606758\n",
      "Стратифицированное станд. отклонение = 76.1470117161366\n",
      "basic Cohen D effect size =  0.0371609548358133\n",
      "strat Cohen D effect size =  0.042577425346549014\n",
      "Ответ--------------------------------\n",
      "Basic sample size = 11368\n",
      "Stratified sample size = 8660\n"
     ]
    }
   ],
   "source": [
    "# работаем только с группой A\n",
    "group_a_weights = dict(data_a['is_capital'].value_counts(normalize = True))\n",
    "\n",
    "# рассчитаем стратифицированное стандартное отклонение\n",
    "strat_std = calculate_strat_var(data_a, 'is_capital', group_a_weights, 'ARPU') ** 0.5\n",
    "\n",
    "print('Обычная станд. отклонение =', basic_std)\n",
    "print('Стратифицированное станд. отклонение =', strat_std)\n",
    "\n",
    "basic_cohen_D_effect_size = abs_MDE / basic_std\n",
    "strat_cohen_D_effect_size = abs_MDE / strat_std\n",
    "\n",
    "print('basic Cohen D effect size = ', basic_cohen_D_effect_size)\n",
    "print('strat Cohen D effect size = ', strat_cohen_D_effect_size)\n",
    "\n",
    "strat_sample_size = int(tt_ind_solve_power(effect_size = strat_cohen_D_effect_size, alpha=0.05, power=0.8, nobs1=None, ratio=1))\n",
    "basic_sample_size = int(tt_ind_solve_power(effect_size = basic_cohen_D_effect_size, alpha=0.05, power=0.8, nobs1=None, ratio=1))\n",
    "print('Ответ--------------------------------')\n",
    "print('Basic sample size = {}'.format(basic_sample_size))\n",
    "print('Stratified sample size = {}'.format(strat_sample_size))"
   ]
  }
 ],
 "metadata": {
  "kernelspec": {
   "display_name": "Python [conda env:base] *",
   "language": "python",
   "name": "conda-base-py"
  },
  "language_info": {
   "codemirror_mode": {
    "name": "ipython",
    "version": 3
   },
   "file_extension": ".py",
   "mimetype": "text/x-python",
   "name": "python",
   "nbconvert_exporter": "python",
   "pygments_lexer": "ipython3",
   "version": "3.12.7"
  }
 },
 "nbformat": 4,
 "nbformat_minor": 5
}
